{
 "cells": [
  {
   "cell_type": "code",
   "execution_count": 12,
   "metadata": {},
   "outputs": [],
   "source": [
    "import pandas as pd\n",
    "from collections import Counter\n",
    "import re\n",
    "\n",
    "# Load the data\n",
    "# user_matching = pd.read_csv('/Users/robintran/Desktop/TL/Python_Guskey_Analysis/db/output/user_matching.csv')\n",
    "# educator_survey = pd.read_csv('/Users/robintran/Desktop/TL/Python_Guskey_Analysis/db/output/educator_survey.csv')\n",
    "# participant_feedback = pd.read_csv('/Users/robintran/Desktop/TL/Python_Guskey_Analysis/db/output/participant_feedback.csv')\n",
    "# student_work = pd.read_csv('/Users/robintran/Desktop/TL/Python_Guskey_Analysis/db/output/student_work.csv')\n",
    "\n",
    "# # Filter user_matching for rows where \"Student Work\", \"Participant Survey\", and \"Educator Survey\" are all \"Yes\"\n",
    "# filtered_user_matching = user_matching[(user_matching[\"Student Work\"] == \"Yes\") & \n",
    "#                                        (user_matching[\"Participant Feedback\"] == \"Yes\") & \n",
    "#                                        (user_matching[\"Educator Survey\"] == \"Yes\")]"
   ]
  },
  {
   "cell_type": "code",
   "execution_count": 13,
   "metadata": {},
   "outputs": [],
   "source": [
    "student_work = pd.read_csv('/Users/robintran/Desktop/TL/Python_Guskey_Analysis/analysis/data_processing/historical_merging/output/student_work_v2.csv')\n",
    "student_work_22_23 = pd.read_csv('/Users/robintran/Desktop/TL/Python_Guskey_Analysis/data-raw/sy22_23/student_work.csv')"
   ]
  },
  {
   "cell_type": "code",
   "execution_count": 16,
   "metadata": {},
   "outputs": [],
   "source": [
    "student_work_22_23['Date of Submission'] = pd.to_datetime(student_work_22_23['Date of Submission']).dt.date\n"
   ]
  },
  {
   "cell_type": "code",
   "execution_count": 18,
   "metadata": {},
   "outputs": [],
   "source": [
    "student_work_22_23['school_year'] = 'sy22_23'"
   ]
  },
  {
   "cell_type": "code",
   "execution_count": 20,
   "metadata": {},
   "outputs": [],
   "source": [
    "student_work_22_23_total = pd.concat([student_work, student_work_22_23])\n",
    "student_work_22_23_total.to_csv(\"/Users/robintran/Desktop/TL/Python_Guskey_Analysis/analysis/data_processing/historical_merging/output/student_work_v2_22_23.csv\")"
   ]
  },
  {
   "cell_type": "code",
   "execution_count": 19,
   "metadata": {},
   "outputs": [
    {
     "name": "stderr",
     "output_type": "stream",
     "text": [
      "/var/folders/sl/0zgpqcp90hb6b9wk3l2sh6mr0000gn/T/ipykernel_6028/2787797498.py:7: DtypeWarning: Columns (5,6,10,11,12,13,14,15,18,19,21,22,23,24,25,26,27,28,31,32,33,34,35,36,37,38,39,40,41,42,43,44,45,46,47,48,49,52,54,55,56,57,58,59,60,61,62,63,64,65,66,67,68,69,72,73,75,76,77,79,80,82,84,85,86,87,88,89,90,92,96,97,98,99,101,103,105,106,107,108,117,119,120,121,122,123,124,125,126,127,128,129,130,131,132,133,134,135,136,137,138,139,140,141,142,143,144,145,146,147,148,149,150,151,152,153,154,155,156,157,158,159,160,161,162,163,164,165,166,167,168,169,170,171,172,173,174,175,176,177,178,179,180,181,182,183,184,185,186,187,188,189,190,191,192,193,194,195,196,197,198,199,200,201,202,203,204,205,206,207,208,209,210,211,212,213,214,215,216,217,218,219,220,221,222,223,224,225,226,227,228,229,230,231,232,233,234,235,236,237,238,239,240,241,242,243,244,245,246,247,248,249,250,251,252,253,254,255,256,257,258,259,260,261,262,263,264,265,266,267,268,269,270,271,272,273,274,275,276,277,278,279,280,281,282,283,284,285,286,287,288,289,290,291,292,293,294,295,296,297,298,299,300,301,302,303,304,305,306,307,308,309,310,311,312,313,314,315,316,317,318,319,320,321,322,323,324,325,326,327,328,329,330,331,332,333,334,335,336,337,338,339,340,341,342,343,344,345,346,347,348,349,350,351,352,353,354,355,356,357,358,359,360,361,362,363,364,365,366,367,368,369,370,371,372,373,374,375,376,377,378,379,380,381,382,383,384,385,386,387,388,389,390,392,393,394,395,396,397,398,399,400,401,402,403,404,405,406,407,458,461,462,463,464,465,466,467,468) have mixed types. Specify dtype option on import or set low_memory=False.\n",
      "  df = pd.read_csv(filepath)\n",
      "/var/folders/sl/0zgpqcp90hb6b9wk3l2sh6mr0000gn/T/ipykernel_6028/2787797498.py:7: DtypeWarning: Columns (1,2,5,6,7,8,11,12,13,14,15,16,19,20,21,22,23,24,27,28,29,30,31,33,34,35,36,37,40,41,42,43,44,45,46,47,48,49,50,51,52,53,54,55,56,57,58,59,60,61,62,63,64,65,66,68,69,70,71,72,73,74,75,78,79,80,81,82,83,89,90,91,92,93,94,95,96,97,98,99,100,101,102,103,104,105,106,107,108,109,110,111,112,113,114,115,116,117,118,119,120,121,122,123,124,125,126,127,128,129,130,131,132,133,134,135,146,148,149,150,151,152,153,154,155,156,157,158,159,160,161,162,163,164,165,166,167,168,169,170,171,172,173,174,175,176,177,178,179,180,181,182,183,184,185,186,187,188,189,192,193,194,195,196,197,198,199,200) have mixed types. Specify dtype option on import or set low_memory=False.\n",
      "  df = pd.read_csv(filepath)\n"
     ]
    },
    {
     "name": "stdout",
     "output_type": "stream",
     "text": [
      "                email/initials                   name\n",
      "0        bsmith@bostonprep.org             brad smith\n",
      "1             sfoo@techabq.org             simone foo\n",
      "2       mraffa@schools.nyc.gov         michelle raffa\n",
      "3   eallard@uxbridge.k12.ma.us           emily allard\n",
      "4   cbianco@uxbridge.k12.ma.us         charisa bianco\n",
      "5              fjames@osd1.org            james flynn\n",
      "6  kekstrom@uxbridge.k12.ma.us           kara ekstrom\n",
      "7        ysiri@schools.nyc.gov           yesenia siri\n",
      "8         livingstone@wsps.org  livingstone room b316\n",
      "9    jclark@uxbridge.k12.ma.us              jen clark\n"
     ]
    }
   ],
   "source": [
    "import pandas as pd\n",
    "import os\n",
    "import gspread\n",
    "from oauth2client.service_account import ServiceAccountCredentials\n",
    "\n",
    "def load_csv_lowercase(filepath):\n",
    "    df = pd.read_csv(filepath)\n",
    "    df.columns = df.columns.str.lower()\n",
    "    return df\n",
    "\n",
    "student_work = load_csv_lowercase(\"/Users/robintran/Desktop/TL/Python_Guskey_Analysis/analysis/data_processing/historical_merging/output/student_work.csv\")\n",
    "student_work['email'] = student_work['email'].str.lower()\n",
    "student_work['name'] = student_work['name'].str.lower()\n",
    "\n",
    "\n",
    "knowledge_assessment = load_csv_lowercase(\"/Users/robintran/Desktop/TL/Python_Guskey_Analysis/data-raw/sy23_24/knowledge_assessments.csv\")\n",
    "knowledge_assessment['id'] = knowledge_assessment['id'].str.lower()\n",
    "\n",
    "ipg_forms = load_csv_lowercase('/Users/robintran/Desktop/TL/Python_Guskey_Analysis/data-raw/sy21_22/ipg_forms.csv')\n",
    "ipg_forms['name of teacher observed'] = ipg_forms['name of teacher observed'].str.lower()\n",
    "\n",
    "educator_survey = load_csv_lowercase('/Users/robintran/Desktop/TL/Python_Guskey_Analysis/db/output/merged_educator_survey.csv')\n",
    "educator_survey['matched_id'] = educator_survey['matched_id'].str.lower()\n",
    "\n",
    "participant_feedback = load_csv_lowercase(\"/Users/robintran/Desktop/TL/Python_Guskey_Analysis/db/output/merged_participant_feedback.csv\")\n",
    "participant_feedback['matched_id'] = participant_feedback['matched_id'].str.lower()\n",
    "participant_feedback.to_csv(\"/Users/robintran/Desktop/TL/Python_Guskey_Analysis/db/output/merged_participant_feedback_lowercase.csv\")\n",
    "merged_df = load_csv_lowercase(\"/Users/robintran/Desktop/TL/Python_Guskey_Analysis/analysis/data_processing/id_matching/id_matching_ver2/name_and_email.csv\")\n",
    "\n",
    "\n",
    "print(merged_df.head(10))\n",
    "\n",
    "# Create presence indicators\n",
    "participant_feedback_emails = participant_feedback['matched_id'].unique()\n",
    "participant_feedback_emails_df_list = participant_feedback_emails.tolist()\n",
    "\n",
    "\n",
    "\n",
    "# participant_feedback_emails_df.to_csv(\"/Users/robintran/Desktop/TL/Python_Guskey_Analysis/db/output/merged_participant_feedback_lowercase_unique.csv\")\n",
    "educator_survey_emails = educator_survey['matched_id'].unique()\n",
    "educator_survey_emails_list = educator_survey_emails.tolist()\n",
    "\n",
    "student_work_emails = student_work['email'].unique()\n",
    "student_work_emails_list = student_work_emails.tolist()\n",
    "\n",
    "student_work_names = student_work[\"name\"].unique()\n",
    "student_work_names_list = student_work_names.tolist()\n",
    "\n",
    "knowledge_assessment_emails = knowledge_assessment['id'].unique()\n",
    "knowledge_assessment_emails_list = knowledge_assessment_emails.tolist()\n",
    "\n",
    "ipg_forms_names = ipg_forms['name of teacher observed'].unique()\n",
    "ipg_forms_names_list = ipg_forms_names.tolist()\n",
    "\n",
    "email_initials = merged_df['email/initials'].tolist()\n",
    "\n",
    "intersection_list_participant_feedback = list(set(email_initials) & set(participant_feedback_emails_df_list))\n",
    "intersection_df_participant_feedback = pd.DataFrame(intersection_list_participant_feedback, columns=['intersection_emails'])\n",
    "\n",
    "merged_particpant_feedback = merged_df.merge(intersection_df_participant_feedback, how = 'left', left_on = 'email/initials', right_on = 'intersection_emails')\n",
    "# merged_particpant_feedback.to_csv(\"/Users/robintran/Desktop/TL/Python_Guskey_Analysis/analysis/data_processing/id_matching/id_matching_ver2/merged_participant_feedback_v1.csv\")\n",
    "\n",
    "\n",
    "intersection_list_student_work = list(set(email_initials) & set(student_work_emails_list))\n",
    "intersection_df_student_work = pd.DataFrame(intersection_list_student_work, columns=['intersection_emails_student_work'])\n",
    "\n",
    "merged_particpant_feedback_student_work = merged_particpant_feedback.merge(intersection_df_student_work, how = 'left', left_on = 'email/initials', right_on = 'intersection_emails_student_work')\n"
   ]
  },
  {
   "cell_type": "code",
   "execution_count": 4,
   "metadata": {},
   "outputs": [],
   "source": [
    "merged_particpant_feedback_student_work.to_csv(\"/Users/robintran/Desktop/TL/Python_Guskey_Analysis/analysis/data_processing/id_matching/id_matching_ver2/merged_participant_feedback_v2.csv\")"
   ]
  },
  {
   "cell_type": "code",
   "execution_count": 20,
   "metadata": {},
   "outputs": [],
   "source": [
    "\n",
    "intersection_list_knowledge = list(set(email_initials) & set(knowledge_assessment_emails_list))\n",
    "intersection_df_list_knowledge = pd.DataFrame(intersection_list_knowledge, columns=['intersection_list_knowledge'])\n",
    "merged_particpant_feedback_student_work_names_knowledge  = merged_particpant_feedback_student_work.merge(intersection_df_list_knowledge, how = 'left', left_on = 'email/initials', right_on = 'intersection_list_knowledge')\n",
    "\n",
    "intersection_list_ipg = list(set(email_initials) & set(ipg_forms_names_list))\n",
    "intersection_df_list_ipg = pd.DataFrame(intersection_list_ipg, columns=['intersection_list_ipg'])\n",
    "merged_particpant_feedback_student_work_names_knowledge_ipg  = merged_particpant_feedback_student_work_names_knowledge.merge(intersection_df_list_ipg, how = 'left', left_on = 'email/initials', right_on = 'intersection_list_ipg')\n",
    "\n"
   ]
  },
  {
   "cell_type": "code",
   "execution_count": 12,
   "metadata": {},
   "outputs": [
    {
     "data": {
      "text/plain": [
       "[nan]"
      ]
     },
     "execution_count": 12,
     "metadata": {},
     "output_type": "execute_result"
    }
   ],
   "source": [
    "intersection_list_student_work"
   ]
  },
  {
   "cell_type": "code",
   "execution_count": 21,
   "metadata": {},
   "outputs": [],
   "source": [
    "merged_particpant_feedback_student_work_names_knowledge_ipg.to_csv(\"/Users/robintran/Desktop/TL/Python_Guskey_Analysis/analysis/data_processing/id_matching/id_matching_ver2/merged_intersection_df_v1.csv\")"
   ]
  },
  {
   "cell_type": "code",
   "execution_count": 44,
   "metadata": {},
   "outputs": [],
   "source": [
    "intersection_list_education_survey = list(set(email_initials) & set(educator_survey_emails_list))"
   ]
  },
  {
   "cell_type": "code",
   "execution_count": 46,
   "metadata": {},
   "outputs": [],
   "source": [
    "intersection_df_list_education_survey = pd.DataFrame(intersection_list_education_survey, columns=['intersection_education_survey'])\n",
    "\n",
    "merged_particpant_feedback_student_work_names_knowledge_ipg_edusurvey  = merged_particpant_feedback_student_work_names_knowledge_ipg.merge(intersection_df_list_education_survey, how = 'left', left_on = 'email/initials', right_on = 'intersection_education_survey')\n"
   ]
  },
  {
   "cell_type": "code",
   "execution_count": 48,
   "metadata": {},
   "outputs": [
    {
     "data": {
      "text/plain": [
       "Index(['email/initials', 'name', 'intersection_emails',\n",
       "       'intersection_emails_student_work', 'intersection_list_knowledge',\n",
       "       'intersection_list_ipg', 'intersection_emails_yes_no',\n",
       "       'intersection_emails_student_work_yes_no',\n",
       "       'intersection_list_knowledge_yes_no', 'intersection_list_ipg_yes_no',\n",
       "       'intersection_education_survey'],\n",
       "      dtype='object')"
      ]
     },
     "execution_count": 48,
     "metadata": {},
     "output_type": "execute_result"
    }
   ],
   "source": [
    "merged_particpant_feedback_student_work_names_knowledge_ipg_edusurvey.columns"
   ]
  },
  {
   "cell_type": "code",
   "execution_count": 34,
   "metadata": {},
   "outputs": [],
   "source": [
    "merged_particpant_feedback_student_work_names_knowledge_ipg['intersection_emails_yes_no']= merged_particpant_feedback_student_work_names_knowledge_ipg['intersection_emails'].apply(lambda x: 'No' if pd.isna(x) or x == '' else 'Yes')"
   ]
  },
  {
   "cell_type": "code",
   "execution_count": 35,
   "metadata": {},
   "outputs": [],
   "source": [
    "merged_particpant_feedback_student_work_names_knowledge_ipg['intersection_emails_student_work_yes_no']= merged_particpant_feedback_student_work_names_knowledge_ipg['intersection_emails_student_work'].apply(lambda x: 'No' if pd.isna(x) or x == '' else 'Yes')"
   ]
  },
  {
   "cell_type": "code",
   "execution_count": 36,
   "metadata": {},
   "outputs": [],
   "source": [
    "merged_particpant_feedback_student_work_names_knowledge_ipg['intersection_list_knowledge_yes_no']= merged_particpant_feedback_student_work_names_knowledge_ipg['intersection_list_knowledge'].apply(lambda x: 'No' if pd.isna(x) or x == '' else 'Yes')"
   ]
  },
  {
   "cell_type": "code",
   "execution_count": 37,
   "metadata": {},
   "outputs": [],
   "source": [
    "merged_particpant_feedback_student_work_names_knowledge_ipg['intersection_list_ipg_yes_no']= merged_particpant_feedback_student_work_names_knowledge_ipg['intersection_list_ipg'].apply(lambda x: 'No' if pd.isna(x) or x == '' else 'Yes')"
   ]
  },
  {
   "cell_type": "code",
   "execution_count": 49,
   "metadata": {},
   "outputs": [],
   "source": [
    "merged_particpant_feedback_student_work_names_knowledge_ipg_edusurvey['intersection_education_survey_yes_no']= merged_particpant_feedback_student_work_names_knowledge_ipg_edusurvey['intersection_education_survey'].apply(lambda x: 'No' if pd.isna(x) or x == '' else 'Yes')"
   ]
  },
  {
   "cell_type": "code",
   "execution_count": 40,
   "metadata": {},
   "outputs": [],
   "source": [
    "merged_particpant_feedback_student_work_names_knowledge_ipg.to_csv(\"/Users/robintran/Desktop/TL/Python_Guskey_Analysis/analysis/data_processing/id_matching/id_matching_ver2/survey_user_matched.csv\")"
   ]
  },
  {
   "cell_type": "code",
   "execution_count": 33,
   "metadata": {},
   "outputs": [],
   "source": [
    "merged_particpant_feedback_student_work_names_knowledge_ipg.to_csv(\"/Users/robintran/Desktop/TL/Python_Guskey_Analysis/analysis/data_processing/id_matching/id_matching_ver2/merged_intersection_df_v1_y_n.csv\")"
   ]
  },
  {
   "cell_type": "code",
   "execution_count": 50,
   "metadata": {},
   "outputs": [],
   "source": [
    "merged_particpant_feedback_student_work_names_knowledge_ipg_edusurvey.to_csv(\"/Users/robintran/Desktop/TL/Python_Guskey_Analysis/analysis/data_processing/id_matching/id_matching_ver2/survey_user_matched.csv\")"
   ]
  },
  {
   "cell_type": "code",
   "execution_count": 52,
   "metadata": {},
   "outputs": [],
   "source": [
    "data = pd.read_csv(\"/Users/robintran/Desktop/TL/Python_Guskey_Analysis/analysis/data_processing/id_matching/id_matching_ver2/merged_intersection_df_v1_y_n.csv\")\n"
   ]
  },
  {
   "cell_type": "code",
   "execution_count": 53,
   "metadata": {},
   "outputs": [],
   "source": [
    "data['intersection_emails_yes_no']= data['intersection_emails'].apply(lambda x: 'No' if pd.isna(x) or x == '' else 'Yes')\n",
    "\n",
    "data['intersection_emails_student_work_yes_no']= data['intersection_emails_student_work'].apply(lambda x: 'No' if pd.isna(x) or x == '' else 'Yes')\n",
    "\n",
    "data['intersection_list_knowledge_yes_no']= data['intersection_list_knowledge'].apply(lambda x: 'No' if pd.isna(x) or x == '' else 'Yes')\n",
    "\n",
    "data['intersection_list_ipg_yes_no']= data['intersection_list_ipg'].apply(lambda x: 'No' if pd.isna(x) or x == '' else 'Yes')"
   ]
  },
  {
   "cell_type": "code",
   "execution_count": 55,
   "metadata": {},
   "outputs": [],
   "source": [
    "data.to_csv(\"/Users/robintran/Desktop/TL/Python_Guskey_Analysis/analysis/data_processing/id_matching/id_matching_ver2/data_pre_edusurvey.csv\")"
   ]
  },
  {
   "cell_type": "code",
   "execution_count": 56,
   "metadata": {},
   "outputs": [],
   "source": [
    "\n",
    "educator_survey_emails_list = list(set(email_initials) & set(educator_survey_emails_list))\n",
    "educator_survey_emails_list_df = pd.DataFrame(educator_survey_emails_list, columns=['intersection_list_edusurvey'])\n",
    "data_after_edusurvey  = data.merge(educator_survey_emails_list_df, how = 'left', left_on = 'email/initials', right_on = 'intersection_list_edusurvey')\n",
    "data_after_edusurvey['intersection_list_edusurvey_yes_no']= data_after_edusurvey['intersection_list_edusurvey'].apply(lambda x: 'No' if pd.isna(x) or x == '' else 'Yes')"
   ]
  },
  {
   "cell_type": "code",
   "execution_count": null,
   "metadata": {},
   "outputs": [],
   "source": [
    "data_after_edusurvey.to_csv(\"/Users/robintran/Desktop/TL/Python_Guskey_Analysis/analysis/data_processing/id_matching/id_matching_ver2/data_post_edusurvey.csv\")"
   ]
  }
 ],
 "metadata": {
  "kernelspec": {
   "display_name": "Python 3.12.3 ('comsc335')",
   "language": "python",
   "name": "python3"
  },
  "language_info": {
   "codemirror_mode": {
    "name": "ipython",
    "version": 3
   },
   "file_extension": ".py",
   "mimetype": "text/x-python",
   "name": "python",
   "nbconvert_exporter": "python",
   "pygments_lexer": "ipython3",
   "version": "3.12.3"
  },
  "orig_nbformat": 4,
  "vscode": {
   "interpreter": {
    "hash": "566fb7377e95fe032a48106cef795aaf5cbd42e4a4d85716bf8cf77a598fd0b8"
   }
  }
 },
 "nbformat": 4,
 "nbformat_minor": 2
}
